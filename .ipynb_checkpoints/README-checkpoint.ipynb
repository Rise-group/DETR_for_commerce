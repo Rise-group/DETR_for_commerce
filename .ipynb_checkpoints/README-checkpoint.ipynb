{
 "cells": [
  {
   "cell_type": "markdown",
   "metadata": {},
   "source": [
    "\n",
    "\n",
    "<img src=\"figs/PEAKurban.png\" alt=\"PEAK Urban logo\" align=\"right\" width =\"200\" height=\"133\">\n",
    "\n",
    "<img src=\"figs/logo_rise_eafit.png\" alt=\"RiSE-group logo\" align=\"middle\" width =\"380\" height=\"100\">"
   ]
  },
  {
   "cell_type": "markdown",
   "metadata": {},
   "source": [
    "\n",
    "DEtection Transformer for Commerce\n",
    "=================================================\n",
    "\n",
    "\n",
    "## Description\n",
    "\n",
    "This repository contains the data and the code used in the implementation of the DETR for the detection of businesses visible in street images:\n",
    "\n",
    "\n",
    "\n",
    "Juan C. Saldarriaga<sup>1</sup>\n",
    "\n",
    "<sup>1</sup> RiSE-group, Department of Mathematical Sciences, Universidad EAFIT, Medellin, Colombia\n",
    "\n",
    "__maintainer__ = \"RiSE Group\"  (http://www.rise-group.org/). Universidad EAFIT\n",
    "\n",
    "__Corresponding author__ = jduquec1@eafit.edu.co (JCD)"
   ]
  },
  {
   "cell_type": "markdown",
   "metadata": {},
   "source": [
    "\n",
    "<img src=\"figs/framework_model_detection.png\" alt=\"PEAK Urban logo\" align=\"right\">"
   ]
  },
  {
   "cell_type": "markdown",
   "metadata": {},
   "source": [
    "```\n",
    "# PREDICCIÓN\n",
    "python prediction.py --fg_folder=best_model \n",
    "                     --score_th=0.1\n",
    "                     --folder_images=data/tuning/\n",
    "                     --output_directory=predictions/prediction_tuning_best_model.csv\n",
    "                     \n",
    "# RENDIMIENTO\n",
    "python model_performance.py --prediction_folder=predictions/prediction_tuning_best_model\n",
    "                            --labels_file = data/tuning_labels.csv\n",
    "                            --score_th=0.1\n",
    "                            --IOU_th = 0.45\n",
    "```"
   ]
  }
 ],
 "metadata": {
  "anaconda-cloud": {},
  "kernelspec": {
   "display_name": "Python 3",
   "language": "python",
   "name": "python3"
  },
  "language_info": {
   "codemirror_mode": {
    "name": "ipython",
    "version": 3
   },
   "file_extension": ".py",
   "mimetype": "text/x-python",
   "name": "python",
   "nbconvert_exporter": "python",
   "pygments_lexer": "ipython3",
   "version": "3.6.10"
  }
 },
 "nbformat": 4,
 "nbformat_minor": 1
}
